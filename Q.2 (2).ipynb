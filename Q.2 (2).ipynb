{
 "cells": [
  {
   "cell_type": "code",
   "execution_count": 2,
   "id": "7e6661ab-0ede-409a-8b24-2fe2caf842aa",
   "metadata": {},
   "outputs": [
    {
     "name": "stdin",
     "output_type": "stream",
     "text": [
      "Enter a string:  vikash\n",
      "Enter the letter to check if the string starts with:  v\n"
     ]
    },
    {
     "name": "stdout",
     "output_type": "stream",
     "text": [
      "'vikash' starts with 'v'.\n"
     ]
    }
   ],
   "source": [
    "\"\"\"\n",
    "Q2. Solve the below-given questions using at least one of the \n",
    "following: \n",
    "\n",
    "1. Lambda function\n",
    "2. Filter function\n",
    "3. Map function\n",
    "4. List Comprehension\n",
    "\n",
    "\n",
    "* Check if the string starts with a particular letter.\n",
    "* Check if the string is numeric.\n",
    "* Sort a list of tuples having fruit names and their quantity.\n",
    "[(\"mango\",99),(\"orange\",80), (\"grapes\", 1000)]\n",
    "* Find the squares of numbers from 1 to 10.\n",
    "* Find the cube root of numbers from 1 to 10.\n",
    "* Check if a given number is even.\n",
    "* Filter odd numbers from the given list.\n",
    "\n",
    " [1,2,3,4,5,6,7,8,9,10]\n",
    "* Sort a list of integers into positive and negative integers \n",
    "lists.\n",
    "\n",
    " [1,2,3,4,5,6,-1,-2,-3,-4,-5,0]\n",
    " \"\"\"\n",
    "# * Check if the string starts with a particular letter.\n",
    "\n",
    "starts_with_letter = lambda s, letter: s.startswith(letter)\n",
    "input_string = input(\"Enter a string: \")\n",
    "letter_to_check = input(\"Enter the letter to check if the string starts with: \")\n",
    "if starts_with_letter(input_string, letter_to_check):\n",
    "    print(f\"'{input_string}' starts with '{letter_to_check}'.\")\n",
    "else:\n",
    "    print(f\"'{input_string}' does not start with '{letter_to_check}'.\")\n",
    "\n"
   ]
  },
  {
   "cell_type": "code",
   "execution_count": 1,
   "id": "952a9347-74da-4410-baff-925c14a54ff8",
   "metadata": {},
   "outputs": [
    {
     "name": "stdin",
     "output_type": "stream",
     "text": [
      "Enter a string:  vi567\n"
     ]
    },
    {
     "name": "stdout",
     "output_type": "stream",
     "text": [
      "'vi567' is not numeric.\n"
     ]
    }
   ],
   "source": [
    "# Check if the string is numeric.\n",
    "\n",
    "test = lambda s: s.isnumeric()\n",
    "str = input(\"Enter a string: \")\n",
    "if test(str):\n",
    "    print(f\"'{str}' is numeric.\")\n",
    "else:\n",
    "    print(f\"'{str}' is not numeric.\")\n"
   ]
  },
  {
   "cell_type": "code",
   "execution_count": 3,
   "id": "c45b2e29-58ae-4b67-b496-b4152a746d61",
   "metadata": {},
   "outputs": [
    {
     "name": "stdout",
     "output_type": "stream",
     "text": [
      "orange: 80\n",
      "mango: 99\n",
      "grapes: 1000\n"
     ]
    }
   ],
   "source": [
    "# Sort a list of tuples having fruit names and their quantity.\n",
    "#[(\"mango\",99),(\"orange\",80), (\"grapes\", 1000)]\n",
    "\n",
    "# List of tuples with fruit names and quantities\n",
    "fruits = [(\"mango\", 99), (\"orange\", 80), (\"grapes\", 1000)]\n",
    "\n",
    "# Sort the list of tuples based on the quantity (second element\n",
    "#in each tuple)\n",
    "sorted_fruits = sorted(fruits, key=lambda x: x[1])\n",
    "\n",
    "# Print the sorted list\n",
    "for fruit in sorted_fruits:\n",
    "    print(f\"{fruit[0]}: {fruit[1]}\")\n"
   ]
  },
  {
   "cell_type": "code",
   "execution_count": 6,
   "id": "5701a298-0ce6-495e-a2b1-1d6f8a852351",
   "metadata": {},
   "outputs": [
    {
     "name": "stdout",
     "output_type": "stream",
     "text": [
      "Number: [1, 2, 3, 4, 5, 6, 7, 8, 9, 10]\n",
      "square: [1, 4, 9, 16, 25, 36, 49, 64, 81, 100]\n"
     ]
    }
   ],
   "source": [
    "# Find the squares of numbers from 1 to 10.\n",
    "l=[]\n",
    "for i in range(1,11):\n",
    "    l.append(i)\n",
    "print(\"Number:\",l)\n",
    "l2=[]\n",
    "l2=list(map(lambda x:x**2,l))\n",
    "print(\"square:\",l2)"
   ]
  },
  {
   "cell_type": "code",
   "execution_count": 8,
   "id": "93a8daf5-92f7-489b-bba7-d047f282b420",
   "metadata": {},
   "outputs": [
    {
     "name": "stdout",
     "output_type": "stream",
     "text": [
      "The cube root of 1 is 1.00\n",
      "The cube root of 2 is 1.26\n",
      "The cube root of 3 is 1.44\n",
      "The cube root of 4 is 1.59\n",
      "The cube root of 5 is 1.71\n",
      "The cube root of 6 is 1.82\n",
      "The cube root of 7 is 1.91\n",
      "The cube root of 8 is 2.00\n",
      "The cube root of 9 is 2.08\n",
      "The cube root of 10 is 2.15\n"
     ]
    }
   ],
   "source": [
    "# Find the cube root of numbers from 1 to 10.\n",
    "import math\n",
    "\n",
    "# Calculate and print the cube root of numbers from 1 to 10\n",
    "for num in range(1, 11):\n",
    "    cube_root = math.pow(num, 1/3)\n",
    "    print(f\"The cube root of {num} is {cube_root:.2f}\")\n"
   ]
  },
  {
   "cell_type": "code",
   "execution_count": 10,
   "id": "301122f6-a2cf-4b8d-852b-21004648bda9",
   "metadata": {},
   "outputs": [
    {
     "name": "stdin",
     "output_type": "stream",
     "text": [
      "Enter any number: 8\n"
     ]
    },
    {
     "name": "stdout",
     "output_type": "stream",
     "text": [
      "8  is even\n"
     ]
    }
   ],
   "source": [
    "# Check if a given number is even.\n",
    "a=int(input(\"Enter any number:\"))\n",
    "if a%2==0:\n",
    "    print(a,\" is even\")\n",
    "else:\n",
    "    print(a,\" is odd\")"
   ]
  },
  {
   "cell_type": "code",
   "execution_count": 4,
   "id": "b9f881ee-8667-4347-b27f-dac9d40dbbc9",
   "metadata": {},
   "outputs": [
    {
     "name": "stdout",
     "output_type": "stream",
     "text": [
      "Odd numbers in the list: [1, 3, 5, 7, 9]\n"
     ]
    }
   ],
   "source": [
    "#Filter odd numbers from the given list.\n",
    "#[1,2,3,4,5,6,7,8,9,10]\n",
    "# Input list\n",
    "l = [1, 2, 3, 4, 5, 6, 7, 8, 9, 10]\n",
    "\n",
    "# Use a list comprehension to filter odd numbers\n",
    "l1 = [num for num in l if num % 2 != 0]\n",
    "\n",
    "# Print the filtered list of odd numbers\n",
    "print(\"Odd numbers in the list:\", l1)\n",
    "\n"
   ]
  },
  {
   "cell_type": "code",
   "execution_count": 8,
   "id": "1b06d8a1-33fe-4388-839a-029718ae1091",
   "metadata": {},
   "outputs": [
    {
     "name": "stdout",
     "output_type": "stream",
     "text": [
      "positive list= [1, 2, 3, 4, 5, 6]\n",
      "negative list= [-1, -2, -3, -4, -5]\n"
     ]
    }
   ],
   "source": [
    "#Sort a list of integers into positive and negative integers \n",
    "#lists.\n",
    "#[1,2,3,4,5,6,-1,-2,-3,-4,-5,0]\n",
    "\n",
    "l=[1,2,3,4,5,6,-1,-2,-3,-4,-5,0]\n",
    "positive_list=[]\n",
    "negative_list=[]\n",
    "positive_list=list(filter(lambda x:x >0,l))\n",
    "negative_list=list(filter(lambda x:x <0,l))\n",
    "print(\"positive list=\",positive_list)\n",
    "print(\"negative list=\",negative_list)"
   ]
  },
  {
   "cell_type": "code",
   "execution_count": null,
   "id": "29a22bd0-4baa-447d-a222-f9e2130b5c98",
   "metadata": {},
   "outputs": [],
   "source": []
  }
 ],
 "metadata": {
  "kernelspec": {
   "display_name": "Python 3 (ipykernel)",
   "language": "python",
   "name": "python3"
  },
  "language_info": {
   "codemirror_mode": {
    "name": "ipython",
    "version": 3
   },
   "file_extension": ".py",
   "mimetype": "text/x-python",
   "name": "python",
   "nbconvert_exporter": "python",
   "pygments_lexer": "ipython3",
   "version": "3.10.8"
  }
 },
 "nbformat": 4,
 "nbformat_minor": 5
}
